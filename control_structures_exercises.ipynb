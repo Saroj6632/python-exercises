{
 "cells": [
  {
   "cell_type": "code",
   "execution_count": null,
   "id": "f76bfbd0",
   "metadata": {},
   "outputs": [],
   "source": [
    "# conditional basics\n",
    "#prompt the user for a day of the week, print out whether the day is Monday or not\n",
    "\n",
    "day = int(input(\"Enter the number 1-7:  \"))\n",
    "if day == 2:\n",
    "    print (\" It is Monday\")\n",
    "else:\n",
    "    print(\"It is not  Monday\")"
   ]
  },
  {
   "cell_type": "code",
   "execution_count": null,
   "id": "2dd526a4",
   "metadata": {},
   "outputs": [],
   "source": [
    "#prompt the user for a day of the week, print out whether the day is a weekday or a weekend\n",
    "day = int(input(\"Enter the number between 1 and 7: \"))\n",
    "if day == 1:\n",
    "    print(day,\"It's a weekend\")\n",
    "elif day == 7:\n",
    "    print(day, \"Its a weekend\")\n",
    "else:\n",
    "    print(day,\" It is weekday\")"
   ]
  },
  {
   "cell_type": "code",
   "execution_count": 1,
   "id": "ed8490a7",
   "metadata": {},
   "outputs": [
    {
     "name": "stdout",
     "output_type": "stream",
     "text": [
      "Standard hourly pay: 30\n",
      "hours this week: 40\n",
      "1200.0\n"
     ]
    }
   ],
   "source": [
    "#create variables and make up values for\n",
    "\n",
    "#the number of hours worked in one week\n",
    "#the hourly rate\n",
    "#how much the week's paycheck will be\n",
    "#write the python code that calculates the weekly paycheck. You get paid time and a half if you work more than 40 hours\n",
    "hourly_rate = float(input(\"Standard hourly pay: \"))\n",
    "no_of_hours = float(input(\"hours this week: \"))\n",
    "pay_check = (no_of_hours) * (hourly_rate)\n",
    "if no_of_hours > 40:\n",
    "   print(pay_check * 1.5) \n",
    "else:\n",
    "    print(pay_check)"
   ]
  },
  {
   "cell_type": "code",
   "execution_count": null,
   "id": "3eb3bcc2",
   "metadata": {},
   "outputs": [],
   "source": [
    "#Q.no 2 Loop basics\n",
    "#While Create an integer variable i with a value of 5.\n",
    "#Create a while loop that runs so long as i is less than or equal to 15\n",
    "#Each loop iteration, output the current value of i, then increment i by one.\n",
    "i = 5\n",
    "while i <= 15:\n",
    "    print(i)\n",
    "    i += 1"
   ]
  },
  {
   "cell_type": "code",
   "execution_count": null,
   "id": "99920b67",
   "metadata": {},
   "outputs": [],
   "source": [
    "#Create a while loop that will count by 2's starting with 0 and ending at 100. Follow each number with a new line.\n",
    "i = 0\n",
    "while i <= 100:\n",
    "    print(i)\n",
    "    i += 2"
   ]
  },
  {
   "cell_type": "code",
   "execution_count": null,
   "id": "83ad4bbc",
   "metadata": {},
   "outputs": [],
   "source": [
    "# Alter your loop to count backwards by 5's from 100 to -10.\n",
    "i = 100\n",
    "while i >= -10:\n",
    "    print (i)\n",
    "    i -=5"
   ]
  },
  {
   "cell_type": "code",
   "execution_count": null,
   "id": "2d160787",
   "metadata": {},
   "outputs": [],
   "source": [
    "#Create a while loop that starts at 2, and displays the number squared on each line while the number is less than 1,000,000\n",
    "i = 2\n",
    "while i < 1000000:\n",
    "    print(i)\n",
    "    i = i**2"
   ]
  },
  {
   "cell_type": "code",
   "execution_count": null,
   "id": "f8956296",
   "metadata": {},
   "outputs": [],
   "source": [
    "# Write a loop that uses print to create the output shown below.\n",
    "i = 100\n",
    "while i >= 5:\n",
    "    print(i)\n",
    "    i -=5\n"
   ]
  },
  {
   "cell_type": "code",
   "execution_count": 1,
   "id": "1219c68d",
   "metadata": {},
   "outputs": [
    {
     "name": "stdout",
     "output_type": "stream",
     "text": [
      "please enter a number of your choice: 7\n",
      "7 * 1 = 7\n",
      "7 * 2 = 14\n",
      "7 * 3 = 21\n",
      "7 * 4 = 28\n",
      "7 * 5 = 35\n",
      "7 * 6 = 42\n",
      "7 * 7 = 49\n",
      "7 * 8 = 56\n",
      "7 * 9 = 63\n",
      "7 * 10 = 70\n"
     ]
    }
   ],
   "source": [
    "# for loops\n",
    "#Write some code that prompts the user for a number, then shows a multiplication table up through 10 for that number.\n",
    "num_entered = int(input(\"please enter a number of your choice: \"))\n",
    "for i in range (1, 11):\n",
    "    print(f'{num_entered} * {i} = {num_entered * i}')"
   ]
  },
  {
   "cell_type": "code",
   "execution_count": null,
   "id": "31717088",
   "metadata": {},
   "outputs": [],
   "source": [
    "#Create a for loop that uses print to create the output shown below.\n",
    "for num in range(1,10):\n",
    "    print(str(num)*num)"
   ]
  },
  {
   "cell_type": "code",
   "execution_count": null,
   "id": "a8a73360",
   "metadata": {},
   "outputs": [],
   "source": [
    "# Break and continue\n",
    "#Prompt the user for an odd number between 1 and 50. \n",
    "# Use a loop and a break statement to continue prompting the user if they enter invalid input. \n",
    "# (Hint: use the isdigit method on strings to determine this). \n",
    "# Use a loop and the continue statement to output all the odd numbers between 1 and 50, except for the number the user entered.\n",
    "num_entered = input(\"Enter an odd number between 1 and 50: \")\n",
    "while True:\n",
    "    if num_entered.isdigit() and int(num_entered) % 2 == 1 and int(num_entered) in list(range(1, 50)):\n",
    "        break\n",
    "    num_entered = input(\"Try again!! Enter ODD number: \")\n",
    "\n",
    "for n in range (1,50):\n",
    "    if n == int(num_entered):\n",
    "        print(\"Yikes, skipping the\", n)\n",
    "        continue\n",
    "    if n % 2 == 0:\n",
    "        continue\n",
    "    else:\n",
    "        print(\"Here is an odd number\", n)\n"
   ]
  },
  {
   "cell_type": "code",
   "execution_count": 4,
   "id": "d7c04876",
   "metadata": {},
   "outputs": [
    {
     "name": "stdout",
     "output_type": "stream",
     "text": [
      "Please enter a number: 3\n",
      "0\n",
      "1\n",
      "2\n"
     ]
    }
   ],
   "source": [
    "# The input function can be used to prompt for input and use that input in your python code. \n",
    "# Prompt the user to enter a positive number and write a loop that counts from 0 to that number. \n",
    "# (Hints: first make sure that the value the user entered is a valid number, \n",
    "# also note that the input function returns a string, so you'll need to convert this to a numeric type.)\n",
    "\n",
    "user_number = input(\"Please enter a number: \")\n",
    "while True:\n",
    "    if user_number.isdigit() and int(user_number) > 0:\n",
    "        break\n",
    "    user_number = input(\"Please enter a positive number: \")\n",
    "for n in range(0, int(user_number)):\n",
    "    print(n)"
   ]
  },
  {
   "cell_type": "code",
   "execution_count": 7,
   "id": "22ddaf63",
   "metadata": {},
   "outputs": [
    {
     "name": "stdout",
     "output_type": "stream",
     "text": [
      "Please enter a number: 5\n",
      "5\n",
      "4\n",
      "3\n",
      "2\n",
      "1\n"
     ]
    }
   ],
   "source": [
    "#Write a program that prompts the user for a positive integer. \n",
    "# Next write a loop that prints out the numbers from the number the user entered down to 1.\n",
    "user_number = input(\"Please enter a number: \")\n",
    "while True:\n",
    "    if user_number.isdigit() and int(user_number) > 0:\n",
    "        break\n",
    "    user_number = input(\"Please enter a positive number: \")\n",
    "for n in range(int(user_number), 0, -1):\n",
    "    print(n)\n"
   ]
  },
  {
   "cell_type": "code",
   "execution_count": 3,
   "id": "4a616646",
   "metadata": {},
   "outputs": [
    {
     "name": "stdout",
     "output_type": "stream",
     "text": [
      "1\n",
      "2\n",
      "Fizz\n",
      "4\n",
      "Buzz\n",
      "Fizz\n",
      "7\n",
      "8\n",
      "Fizz\n",
      "Buzz\n",
      "11\n",
      "Fizz\n",
      "13\n",
      "14\n",
      "FizzBuzz\n",
      "16\n",
      "17\n",
      "Fizz\n",
      "19\n",
      "Buzz\n",
      "Fizz\n",
      "22\n",
      "23\n",
      "Fizz\n",
      "Buzz\n",
      "26\n",
      "Fizz\n",
      "28\n",
      "29\n",
      "FizzBuzz\n",
      "31\n",
      "32\n",
      "Fizz\n",
      "34\n",
      "Buzz\n",
      "Fizz\n",
      "37\n",
      "38\n",
      "Fizz\n",
      "Buzz\n",
      "41\n",
      "Fizz\n",
      "43\n",
      "44\n",
      "FizzBuzz\n",
      "46\n",
      "47\n",
      "Fizz\n",
      "49\n",
      "Buzz\n",
      "Fizz\n",
      "52\n",
      "53\n",
      "Fizz\n",
      "Buzz\n",
      "56\n",
      "Fizz\n",
      "58\n",
      "59\n",
      "FizzBuzz\n",
      "61\n",
      "62\n",
      "Fizz\n",
      "64\n",
      "Buzz\n",
      "Fizz\n",
      "67\n",
      "68\n",
      "Fizz\n",
      "Buzz\n",
      "71\n",
      "Fizz\n",
      "73\n",
      "74\n",
      "FizzBuzz\n",
      "76\n",
      "77\n",
      "Fizz\n",
      "79\n",
      "Buzz\n",
      "Fizz\n",
      "82\n",
      "83\n",
      "Fizz\n",
      "Buzz\n",
      "86\n",
      "Fizz\n",
      "88\n",
      "89\n",
      "FizzBuzz\n",
      "91\n",
      "92\n",
      "Fizz\n",
      "94\n",
      "Buzz\n",
      "Fizz\n",
      "97\n",
      "98\n",
      "Fizz\n",
      "Buzz\n"
     ]
    }
   ],
   "source": [
    "#Fizzbuzz\n",
    "for n in range (1, 101):\n",
    "    if n % 5 == 0 and n % 3 == 0:\n",
    "        print(\"FizzBuzz\")\n",
    "    elif n % 5 == 0:\n",
    "        print(\"Buzz\")\n",
    "    elif n % 3 == 0:\n",
    "        print(\"Fizz\")\n",
    "    else:\n",
    "        print(n)"
   ]
  },
  {
   "cell_type": "code",
   "execution_count": 20,
   "id": "d595a857",
   "metadata": {},
   "outputs": [
    {
     "name": "stdout",
     "output_type": "stream",
     "text": [
      " enter a number3\n",
      "Here is your multiplication table!\n",
      "number|squared|cubed\n",
      "------|-------|-----\n",
      "  1   |   1   |  1  \n",
      "  2   |   4   |  8  \n",
      "  3   |   9   | 27  \n"
     ]
    }
   ],
   "source": [
    "# # Display a table of powers.\n",
    "\n",
    "# Prompt the user to enter an integer.\n",
    "# Display a table of squares and cubes from 1 to the value entered.\n",
    "# Ask if the user wants to continue.\n",
    "# Assume that the user will enter valid data.\n",
    "# Only continue if the user agrees to.\n",
    "user_number = input(\" enter a number\")\n",
    "print('Here is your multiplication table!')\n",
    "print('number|squared|cubed')\n",
    "print('------|-------|-----')\n",
    "user_number = int(user_number)\n",
    "for i in range(1, (user_number) + 1):\n",
    "    print(f'{i:^6}|{i ** 2:^7}|{i ** 3:^5}')"
   ]
  },
  {
   "cell_type": "code",
   "execution_count": null,
   "id": "e295bfcf",
   "metadata": {},
   "outputs": [],
   "source": [
    "#Convert given number grades into letter grades.\n",
    "\n",
    "# Prompt the user for a numerical grade from 0 to 100.\n",
    "# Display the corresponding letter grade.\n",
    "# Prompt the user to continue.\n",
    "# Assume that the user will enter valid integers for the grades.\n",
    "# The application should only continue if the user agrees to.\n",
    "# Grade Ranges:\n",
    "\n",
    "# A : 100 - 88\n",
    "# B : 87 - 80\n",
    "# C : 79 - 67\n",
    "# D : 66 - 60\n",
    "# F : 59 -0\n",
    "user_number = input(\"Enter a numericaluser_number grade: \")\n",
    "while True:\n",
    "    if float(user_number) > 0 and float(user_number)< 100:\n",
    "        user_number = float(user_number)\n",
    "       \n",
    "        if (user_number) <=100 and (user_number) >= 88:\n",
    "            print(\"A\", (user_number))\n",
    "        elif (user_number) >= 87:\n",
    "            print(\"B\", (user_number))\n",
    "        elif  (user_number) >= 67:\n",
    "            print(\"C\", (user_number))\n",
    "        elif (user_number) >= 60:\n",
    "            print(\"D\", (user_number))\n",
    "        else:\n",
    "            print(\"F\", (user_number))\n",
    "        more_results = input(\"Would you like to continue? Y/N \")\n",
    "        if more_results == 'N':\n",
    "            break\n",
    "        else:\n",
    "            user_number = input(\"Enter a numerical user_number grade: \")\n",
    "                \n",
    "    else:\n",
    "        print(\"invalid input\")\n",
    "        user_number = input(\"Enter a numericaluser_number grade: \")\n",
    "            "
   ]
  },
  {
   "cell_type": "code",
   "execution_count": 7,
   "id": "b247c7f8",
   "metadata": {},
   "outputs": [
    {
     "name": "stdout",
     "output_type": "stream",
     "text": [
      "Please write a genre name: fiction\n",
      "harry potter\n"
     ]
    }
   ],
   "source": [
    "#Create a list of dictionaries where each dictionary represents a book that you have read. \n",
    "# Each dictionary in the list should have the keys title, author, and genre. \n",
    "# Loop through the list and print out information about each book.\n",
    "books = [{'title':'harry potter', 'author':'J.K Rowling','genre':'fiction'},\n",
    "         {'title':'Muna Madan','author':'Laxmi Prasad Devkota','genre':'Love and Romance'}]\n",
    "user_genre = input(\"Please write a genre name: \")\n",
    "for book in books:\n",
    "    if user_genre == book['genre']:\n",
    "        print(book['title'])\n"
   ]
  },
  {
   "cell_type": "code",
   "execution_count": 9,
   "id": "a2b8058b",
   "metadata": {},
   "outputs": [
    {
     "data": {
      "text/plain": [
       "[{'title': 'harry potter', 'author': 'J.K Rowling', 'genre': 'fiction'},\n",
       " {'title': 'Muna Madan',\n",
       "  'author': 'Laxmi Prasad Devkota',\n",
       "  'genre': 'Love and Romance'}]"
      ]
     },
     "execution_count": 9,
     "metadata": {},
     "output_type": "execute_result"
    }
   ],
   "source": [
    "[book for book in books]"
   ]
  },
  {
   "cell_type": "code",
   "execution_count": 16,
   "id": "37a54b78",
   "metadata": {},
   "outputs": [
    {
     "name": "stdout",
     "output_type": "stream",
     "text": [
      "The book harry potter byJ.K Rowling belongs to fiction genre\n",
      "The book Muna Madan byLaxmi Prasad Devkota belongs to Love and Romance genre\n"
     ]
    }
   ],
   "source": [
    "for book in books:\n",
    "    print(f\"The book {book['title']} by{book['author']} belongs to {book['genre']} genre\")\n"
   ]
  },
  {
   "cell_type": "code",
   "execution_count": null,
   "id": "1d268967",
   "metadata": {},
   "outputs": [],
   "source": []
  }
 ],
 "metadata": {
  "kernelspec": {
   "display_name": "Python 3 (ipykernel)",
   "language": "python",
   "name": "python3"
  },
  "language_info": {
   "codemirror_mode": {
    "name": "ipython",
    "version": 3
   },
   "file_extension": ".py",
   "mimetype": "text/x-python",
   "name": "python",
   "nbconvert_exporter": "python",
   "pygments_lexer": "ipython3",
   "version": "3.9.12"
  }
 },
 "nbformat": 4,
 "nbformat_minor": 5
}
