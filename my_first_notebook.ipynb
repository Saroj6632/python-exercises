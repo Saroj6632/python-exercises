{
 "cells": [
  {
   "cell_type": "code",
   "execution_count": 4,
   "id": "b739cc7f",
   "metadata": {},
   "outputs": [
    {
     "name": "stdout",
     "output_type": "stream",
     "text": [
      "ctrl + A = insert cell above\n"
     ]
    }
   ],
   "source": [
    "shortcut=('ctrl + A = insert cell above')\n",
    "print(shortcut)"
   ]
  },
  {
   "cell_type": "code",
   "execution_count": 8,
   "id": "a5c4ef23",
   "metadata": {},
   "outputs": [
    {
     "name": "stdout",
     "output_type": "stream",
     "text": [
      "ctrl +  C=cut selected cells\n"
     ]
    }
   ],
   "source": [
    "command=('ctrl +  C')\n",
    "result= ('cut selected cells')\n",
    "print (command + '='+result)"
   ]
  },
  {
   "cell_type": "code",
   "execution_count": 9,
   "id": "10020479",
   "metadata": {},
   "outputs": [
    {
     "name": "stdout",
     "output_type": "stream",
     "text": [
      "ctrl+B = insert cell below\n"
     ]
    }
   ],
   "source": [
    "print('ctrl+B = insert cell below')"
   ]
  },
  {
   "cell_type": "code",
   "execution_count": 1,
   "id": "5e1a716e",
   "metadata": {},
   "outputs": [
    {
     "name": "stdout",
     "output_type": "stream",
     "text": [
      "initiated datasets repo at: /Users/uy5889qx/.pydataset/\n"
     ]
    }
   ],
   "source": [
    "from pydataset import data"
   ]
  },
  {
   "cell_type": "code",
   "execution_count": null,
   "id": "598a6d63",
   "metadata": {},
   "outputs": [],
   "source": []
  }
 ],
 "metadata": {
  "kernelspec": {
   "display_name": "Python 3 (ipykernel)",
   "language": "python",
   "name": "python3"
  },
  "language_info": {
   "codemirror_mode": {
    "name": "ipython",
    "version": 3
   },
   "file_extension": ".py",
   "mimetype": "text/x-python",
   "name": "python",
   "nbconvert_exporter": "python",
   "pygments_lexer": "ipython3",
   "version": "3.9.12"
  }
 },
 "nbformat": 4,
 "nbformat_minor": 5
}
