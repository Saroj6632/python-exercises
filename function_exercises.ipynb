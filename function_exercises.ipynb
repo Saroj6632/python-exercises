{
 "cells": [
  {
   "cell_type": "code",
   "execution_count": 116,
   "id": "5d7b65ab",
   "metadata": {},
   "outputs": [],
   "source": [
    "#Define a function named is_two. It should accept one input and return True if the passed input is either the number or the string 2, False otherwise.\n",
    "def is_two(input):\n",
    "  return str(input) == \"2\"\n",
    "    \n",
    "    \n",
    "\n"
   ]
  },
  {
   "cell_type": "code",
   "execution_count": 119,
   "id": "e78babd5",
   "metadata": {},
   "outputs": [
    {
     "data": {
      "text/plain": [
       "True"
      ]
     },
     "execution_count": 119,
     "metadata": {},
     "output_type": "execute_result"
    }
   ],
   "source": [
    "is_two(2)"
   ]
  },
  {
   "cell_type": "code",
   "execution_count": 82,
   "id": "414113fc",
   "metadata": {},
   "outputs": [],
   "source": [
    "#Define a function named is_vowel. It should return True if the passed string is a vowel, False otherwise.\n",
    "def is_vowel(alphabet):\n",
    "    if alphabet.lower() in ['a','e','i','o','u']:\n",
    "        return True\n",
    "    else:\n",
    "        return False\n",
    "\n"
   ]
  },
  {
   "cell_type": "code",
   "execution_count": 93,
   "id": "a2dddca7",
   "metadata": {
    "scrolled": true
   },
   "outputs": [
    {
     "data": {
      "text/plain": [
       "False"
      ]
     },
     "execution_count": 93,
     "metadata": {},
     "output_type": "execute_result"
    }
   ],
   "source": [
    "is_vowel('s')"
   ]
  },
  {
   "cell_type": "code",
   "execution_count": 97,
   "id": "443605ed",
   "metadata": {},
   "outputs": [],
   "source": [
    "#Define a function named is_consonant. It should return True if the passed string is a consonant, False otherwise. Use your is_vowel function to accomplish this.\n",
    "\n",
    "def is_consonant(alphabet):\n",
    "    if is_vowel(alphabet)== True:\n",
    "        print('the alphabet is vowel')\n",
    "        return False\n",
    "    else:\n",
    "        print('It is Consonant')\n",
    "        return True"
   ]
  },
  {
   "cell_type": "code",
   "execution_count": 98,
   "id": "d33d9eed",
   "metadata": {
    "scrolled": true
   },
   "outputs": [
    {
     "name": "stdout",
     "output_type": "stream",
     "text": [
      "It is Consonant\n"
     ]
    },
    {
     "data": {
      "text/plain": [
       "True"
      ]
     },
     "execution_count": 98,
     "metadata": {},
     "output_type": "execute_result"
    }
   ],
   "source": [
    "is_consonant('s')"
   ]
  },
  {
   "cell_type": "code",
   "execution_count": 99,
   "id": "10d451a3",
   "metadata": {},
   "outputs": [],
   "source": [
    "#Define a function that accepts a string that is a word. \n",
    "#The function should capitalize the first letter of the word if the word starts with a consonant.\n",
    "def capitalize_first_letter(string):\n",
    "    if is_consonant(string[0]):\n",
    "        return string.capitalize()\n",
    "    return string\n"
   ]
  },
  {
   "cell_type": "code",
   "execution_count": 100,
   "id": "93def039",
   "metadata": {},
   "outputs": [
    {
     "name": "stdout",
     "output_type": "stream",
     "text": [
      "It is Consonant\n"
     ]
    },
    {
     "data": {
      "text/plain": [
       "'Saroj'"
      ]
     },
     "execution_count": 100,
     "metadata": {},
     "output_type": "execute_result"
    }
   ],
   "source": [
    "capitalize_first_letter('saroj')"
   ]
  },
  {
   "cell_type": "code",
   "execution_count": 10,
   "id": "d722b152",
   "metadata": {},
   "outputs": [],
   "source": [
    "#Define a function named calculate_tip. It should accept a tip percentage (a number between 0 and 1) and the bill total, \n",
    "#and return the amount to tip.\n",
    "\n",
    "def calculate_tip(tip_percentage,bill):\n",
    "    if tip_percentage > 0 and tip_percentage < 1:\n",
    "        tip_amount = bill * tip_percentage\n",
    "        return tip_amount\n",
    "    \n",
    "\n",
    "    \n",
    "\n",
    "        \n",
    "    \n",
    "    \n",
    "    \n",
    "    "
   ]
  },
  {
   "cell_type": "code",
   "execution_count": 11,
   "id": "e031c3d0",
   "metadata": {},
   "outputs": [
    {
     "name": "stdout",
     "output_type": "stream",
     "text": [
      "Suggested Tip amount: 15.0\n"
     ]
    }
   ],
   "source": [
    "tip_amount = calculate_tip(0.15, 100)\n",
    "print('Suggested Tip amount:', tip_amount)"
   ]
  },
  {
   "cell_type": "code",
   "execution_count": 6,
   "id": "d0d13b3e",
   "metadata": {},
   "outputs": [],
   "source": [
    "#Define a function named apply_discount. It should accept a original price, and \n",
    "#a discount percentage, and return the price after the discount is applied.\n",
    "\n",
    "def apply_discount(price, discount_percent):\n",
    "    discount_amount = ((discount_percent / 100) * price)\n",
    "    final_price = price - discount_amount\n",
    "    return final_price\n",
    "\n",
    "\n",
    "  \n",
    "\n"
   ]
  },
  {
   "cell_type": "code",
   "execution_count": 9,
   "id": "f2d22eb7",
   "metadata": {},
   "outputs": [
    {
     "name": "stdout",
     "output_type": "stream",
     "text": [
      "this is the final price: 83.0\n"
     ]
    }
   ],
   "source": [
    "\n",
    "final_price = apply_discount(100, 17)\n",
    "print(\"this is the final price:\", final_price)\n",
    "\n"
   ]
  },
  {
   "cell_type": "code",
   "execution_count": 144,
   "id": "931994bb",
   "metadata": {},
   "outputs": [],
   "source": [
    "# Define a function named handle_commas. It should accept a string that is a number that contains commas in it as input, \n",
    "#and return a number as output.\n",
    "\n",
    "def handle_commas(num):\n",
    "    num = num.replace(\",\", \"\")\n",
    "    return num\n",
    "    \n"
   ]
  },
  {
   "cell_type": "code",
   "execution_count": 145,
   "id": "5f52940a",
   "metadata": {},
   "outputs": [
    {
     "data": {
      "text/plain": [
       "'4000000'"
      ]
     },
     "execution_count": 145,
     "metadata": {},
     "output_type": "execute_result"
    }
   ],
   "source": [
    "handle_commas('4,000,000')"
   ]
  },
  {
   "cell_type": "code",
   "execution_count": 32,
   "id": "437c230c",
   "metadata": {},
   "outputs": [],
   "source": [
    "# Define a function named get_letter_grade. It should accept a number and return \n",
    "#the letter grade associated with that number (A-F).\n",
    "  # function to get letter grade\n",
    "\n",
    "\n",
    "def get_letter_grade(num):\n",
    "    if num >= 93:\n",
    "        grade = 'A'\n",
    "    elif num >= 80:\n",
    "        grade = 'B'\n",
    "    elif num >= 60:\n",
    "        grade = 'C'\n",
    "    elif  num >= 50:\n",
    "        grade = 'D'\n",
    "    else:\n",
    "        grade = 'F'\n",
    "    return grade\n",
    "\n",
    "\n",
    "\n",
    "\n",
    "    \n"
   ]
  },
  {
   "cell_type": "code",
   "execution_count": 35,
   "id": "81f378fb",
   "metadata": {
    "scrolled": true
   },
   "outputs": [
    {
     "name": "stdout",
     "output_type": "stream",
     "text": [
      "Enter Student's number achieved: 93\n",
      "You achieve grade: A\n"
     ]
    }
   ],
   "source": [
    "num = int(input(\"Enter Student's number achieved: \"))\n",
    "grade = get_letter_grade(num) \n",
    "print(\"You achieve grade:\", grade)\n",
    "\n"
   ]
  },
  {
   "cell_type": "code",
   "execution_count": 120,
   "id": "8b9f1925",
   "metadata": {},
   "outputs": [],
   "source": [
    "#Define a function named remove_vowels that accepts a string and returns a string with all the vowels removed.\n",
    "\n",
    "vowels = (\"a\",\"e\",\"i\",\"o\",\"u\")\n",
    "def remove_vowels(string):\n",
    "    for x in string:\n",
    "        if x in vowels:\n",
    "            string = string.replace(x,\"\")\n",
    "    return string"
   ]
  },
  {
   "cell_type": "code",
   "execution_count": 121,
   "id": "ea12efc9",
   "metadata": {},
   "outputs": [
    {
     "data": {
      "text/plain": [
       "'srj'"
      ]
     },
     "execution_count": 121,
     "metadata": {},
     "output_type": "execute_result"
    }
   ],
   "source": [
    "remove_vowels('saroj')"
   ]
  },
  {
   "cell_type": "code",
   "execution_count": 105,
   "id": "953ed256",
   "metadata": {},
   "outputs": [],
   "source": [
    "# Define a function named normalize_name. It should accept a string and return a valid python identifier, that is:\n",
    "#anything that is not a valid python identifier should be removed\n",
    "#leading and trailing whitespace should be removed\n",
    "#everything should be lowercase\n",
    "#spaces should be replaced with underscores\n",
    "  \n",
    "def normalize_name(string):\n",
    "    return (string.lower().strip().replace(\" \",\"_\"))\n",
    "\n"
   ]
  },
  {
   "cell_type": "code",
   "execution_count": 108,
   "id": "759f585c",
   "metadata": {},
   "outputs": [
    {
     "data": {
      "text/plain": [
       "'sa@oj_duwal'"
      ]
     },
     "execution_count": 108,
     "metadata": {},
     "output_type": "execute_result"
    }
   ],
   "source": [
    "normalize_name(\"SA@oj DuWAL\")"
   ]
  },
  {
   "cell_type": "code",
   "execution_count": 15,
   "id": "21c843ff",
   "metadata": {},
   "outputs": [],
   "source": [
    "# Write a function named cumulative_sum that accepts a list of numbers and returns a list that is the cumulative sum of the numbers in the list.\n",
    "#cumulative_sum([1, 1, 1]) returns [1, 2, 3]\n",
    "#cumulative_sum([1, 2, 3, 4]) returns [1, 3, 6, 10]\n",
    "\n",
    "def cumulative_sum(lists):\n",
    "    for n in lists:\n",
    "        return n + n[0]\n",
    "  \n",
    "    \n",
    "    \n",
    "    \n",
    "\n"
   ]
  },
  {
   "cell_type": "code",
   "execution_count": null,
   "id": "a3a81515",
   "metadata": {},
   "outputs": [],
   "source": []
  }
 ],
 "metadata": {
  "kernelspec": {
   "display_name": "Python 3 (ipykernel)",
   "language": "python",
   "name": "python3"
  },
  "language_info": {
   "codemirror_mode": {
    "name": "ipython",
    "version": 3
   },
   "file_extension": ".py",
   "mimetype": "text/x-python",
   "name": "python",
   "nbconvert_exporter": "python",
   "pygments_lexer": "ipython3",
   "version": "3.9.12"
  }
 },
 "nbformat": 4,
 "nbformat_minor": 5
}
